{
  "nbformat": 4,
  "nbformat_minor": 0,
  "metadata": {
    "kernelspec": {
      "display_name": "37",
      "language": "python",
      "name": "37"
    },
    "language_info": {
      "codemirror_mode": {
        "name": "ipython",
        "version": 3
      },
      "file_extension": ".py",
      "mimetype": "text/x-python",
      "name": "python",
      "nbconvert_exporter": "python",
      "pygments_lexer": "ipython3",
      "version": "3.7.7"
    },
    "colab": {
      "name": "Копия блокнота \"exam.ipynb\"",
      "provenance": [],
      "collapsed_sections": [],
      "include_colab_link": true
    }
  },
  "cells": [
    {
      "cell_type": "markdown",
      "metadata": {
        "id": "view-in-github",
        "colab_type": "text"
      },
      "source": [
        "<a href=\"https://colab.research.google.com/github/sergeymasl/my_education/blob/main/%22exam_ipynb_analytic%22.ipynb\" target=\"_parent\"><img src=\"https://colab.research.google.com/assets/colab-badge.svg\" alt=\"Open In Colab\"/></a>"
      ]
    },
    {
      "cell_type": "markdown",
      "metadata": {
        "id": "qRuC9TWzfhnx"
      },
      "source": [
        "# Экзамен по курсу \"Аналитика данных на Python\""
      ]
    },
    {
      "cell_type": "markdown",
      "metadata": {
        "id": "QvAhR3txfhn1"
      },
      "source": [
        "Этот тест проверит Ваши навыки работы с таблицами данных с помощью библиотек pandas и numpy. Задания делятся на простые (⭐️), средние (⭐️⭐️) и сложные (⭐️⭐️⭐️). Решение простых заданий, как правило, требует одной-двух операций с таблицами, тогда как для более сложных может потребоваться несколько последовательных преобразований данных."
      ]
    },
    {
      "cell_type": "markdown",
      "metadata": {
        "id": "Frn9LjCFfhn6"
      },
      "source": [
        "##  Предыстория"
      ]
    },
    {
      "cell_type": "markdown",
      "metadata": {
        "id": "fQ1HxL0Wfhn-"
      },
      "source": [
        "Сегодня Ваш первый день работы в крупном интернет-магазине, который продаёт товары с доставкой по всему миру. Ваша первая задача – проанализировать базу данных покупок, совершённых в магазине за последние несколько лет. База содержит информацию об отдельных транзакциях, про каждую из которых известны номер инвойса (InvoiceNo), дата инвойса(InvoiceDate), код товара (StockCode), описание товара(Description), количество товара в транзакции (Quantity), стоимость единицы товара (UnitPrice), код покупателя (CustomerID), страна покупателя (Country).\n",
        "\n",
        "База выгружена для Вас в формате CSV: файл [```online-retail.csv```](https://drive.google.com/file/d/1O1oJtpEu-u6s6xTu7seQfnNcQjYCt0GF/view?usp=sharing)"
      ]
    },
    {
      "cell_type": "code",
      "metadata": {
        "id": "rueTavqpfhoB"
      },
      "source": [
        "import numpy as np\n",
        "import pandas as pd\n",
        "import matplotlib.pyplot as plt"
      ],
      "execution_count": null,
      "outputs": []
    },
    {
      "cell_type": "markdown",
      "metadata": {
        "id": "_And5NHkfhoU"
      },
      "source": [
        "## ⭐️ Вопрос 1\n",
        "\n",
        "Загрузите данные из файла online-retail.csv в переменную типа pandas DataFrame\n",
        "\n",
        "Подсказка: Используйте функцию из библиотеки pandas\n",
        "\n",
        "Какой символ-разделитель используется в этом файле?\n",
        "\n",
        "* Запятая \",\"\n",
        "* Двоеточие \":\"\n",
        "* Точка с запятой \";\"\n",
        "* Символ табуляции \"tab\""
      ]
    },
    {
      "cell_type": "markdown",
      "metadata": {
        "id": "l_C6GGXmfhoW"
      },
      "source": [
        "#### Решение"
      ]
    },
    {
      "cell_type": "code",
      "metadata": {
        "id": "zabS9-nPfhoZ",
        "colab": {
          "base_uri": "https://localhost:8080/",
          "height": 144
        },
        "outputId": "e7feee02-2ab4-43f8-a9a9-9346d573ee58"
      },
      "source": [
        "df = pd.read_csv('online-retail.csv', sep = ';')\n",
        "df.head(3)"
      ],
      "execution_count": null,
      "outputs": [
        {
          "output_type": "execute_result",
          "data": {
            "text/html": [
              "<div>\n",
              "<style scoped>\n",
              "    .dataframe tbody tr th:only-of-type {\n",
              "        vertical-align: middle;\n",
              "    }\n",
              "\n",
              "    .dataframe tbody tr th {\n",
              "        vertical-align: top;\n",
              "    }\n",
              "\n",
              "    .dataframe thead th {\n",
              "        text-align: right;\n",
              "    }\n",
              "</style>\n",
              "<table border=\"1\" class=\"dataframe\">\n",
              "  <thead>\n",
              "    <tr style=\"text-align: right;\">\n",
              "      <th></th>\n",
              "      <th>InvoiceNo</th>\n",
              "      <th>StockCode</th>\n",
              "      <th>Description</th>\n",
              "      <th>Quantity</th>\n",
              "      <th>InvoiceDate</th>\n",
              "      <th>UnitPrice</th>\n",
              "      <th>CustomerID</th>\n",
              "      <th>Country</th>\n",
              "    </tr>\n",
              "  </thead>\n",
              "  <tbody>\n",
              "    <tr>\n",
              "      <th>0</th>\n",
              "      <td>536365</td>\n",
              "      <td>85123A</td>\n",
              "      <td>WHITE HANGING HEART T-LIGHT HOLDER</td>\n",
              "      <td>6</td>\n",
              "      <td>2010-12-01 08:26:00</td>\n",
              "      <td>2.55</td>\n",
              "      <td>17850.0</td>\n",
              "      <td>United Kingdom</td>\n",
              "    </tr>\n",
              "    <tr>\n",
              "      <th>1</th>\n",
              "      <td>536365</td>\n",
              "      <td>71053</td>\n",
              "      <td>WHITE METAL LANTERN</td>\n",
              "      <td>6</td>\n",
              "      <td>2010-12-01 08:26:00</td>\n",
              "      <td>3.39</td>\n",
              "      <td>17850.0</td>\n",
              "      <td>United Kingdom</td>\n",
              "    </tr>\n",
              "    <tr>\n",
              "      <th>2</th>\n",
              "      <td>536365</td>\n",
              "      <td>84406B</td>\n",
              "      <td>CREAM CUPID HEARTS COAT HANGER</td>\n",
              "      <td>8</td>\n",
              "      <td>2010-12-01 08:26:00</td>\n",
              "      <td>2.75</td>\n",
              "      <td>17850.0</td>\n",
              "      <td>United Kingdom</td>\n",
              "    </tr>\n",
              "  </tbody>\n",
              "</table>\n",
              "</div>"
            ],
            "text/plain": [
              "  InvoiceNo StockCode  ... CustomerID         Country\n",
              "0    536365    85123A  ...    17850.0  United Kingdom\n",
              "1    536365     71053  ...    17850.0  United Kingdom\n",
              "2    536365    84406B  ...    17850.0  United Kingdom\n",
              "\n",
              "[3 rows x 8 columns]"
            ]
          },
          "metadata": {},
          "execution_count": 3
        }
      ]
    },
    {
      "cell_type": "markdown",
      "metadata": {
        "id": "zoiRAf7Yfhon"
      },
      "source": [
        "## ⭐️ Вопрос 2\n",
        "\n",
        "Сколько строк в полученной таблице (не считая заголовков столбцов)?"
      ]
    },
    {
      "cell_type": "markdown",
      "metadata": {
        "id": "aWFyZcI9fhop"
      },
      "source": [
        "#### Решение"
      ]
    },
    {
      "cell_type": "code",
      "metadata": {
        "id": "q86b9euEfhos",
        "colab": {
          "base_uri": "https://localhost:8080/"
        },
        "outputId": "4c3fde60-e2d1-432c-cee6-fd959fcd376f"
      },
      "source": [
        "df.shape[0]"
      ],
      "execution_count": null,
      "outputs": [
        {
          "output_type": "execute_result",
          "data": {
            "text/plain": [
              "541911"
            ]
          },
          "metadata": {},
          "execution_count": 25
        }
      ]
    },
    {
      "cell_type": "markdown",
      "metadata": {
        "id": "iqElS4zqfho1"
      },
      "source": [
        "## ⭐️ Вопрос 3\n",
        "\n",
        "Сколько столбцов в полученной таблице (не считая индекса)?"
      ]
    },
    {
      "cell_type": "markdown",
      "metadata": {
        "id": "HmYnaf2afho4"
      },
      "source": [
        "#### Решение"
      ]
    },
    {
      "cell_type": "code",
      "metadata": {
        "id": "8ko0tmeNfho7",
        "colab": {
          "base_uri": "https://localhost:8080/"
        },
        "outputId": "48bad002-d6a4-4c9f-e12e-801a8c562837"
      },
      "source": [
        "df.shape[1]"
      ],
      "execution_count": null,
      "outputs": [
        {
          "output_type": "execute_result",
          "data": {
            "text/plain": [
              "8"
            ]
          },
          "metadata": {},
          "execution_count": 26
        }
      ]
    },
    {
      "cell_type": "markdown",
      "metadata": {
        "id": "YetDAhQzfhpF"
      },
      "source": [
        "## ⭐️ Вопрос 4\n",
        "\n",
        "Как называется столбец с самым коротким названием?"
      ]
    },
    {
      "cell_type": "markdown",
      "metadata": {
        "id": "1wTXQGb8fhpH"
      },
      "source": [
        "#### Решение"
      ]
    },
    {
      "cell_type": "code",
      "metadata": {
        "id": "q3Sim0vXfhpJ",
        "colab": {
          "base_uri": "https://localhost:8080/"
        },
        "outputId": "63be52e4-e711-478e-9146-76807f6fde3a"
      },
      "source": [
        "for column in df.columns:\n",
        "  if len(column) == min(list(map(len, df.columns))):\n",
        "    print(column)"
      ],
      "execution_count": null,
      "outputs": [
        {
          "output_type": "stream",
          "name": "stdout",
          "text": [
            "Country\n"
          ]
        }
      ]
    },
    {
      "cell_type": "markdown",
      "metadata": {
        "id": "qb7eYBMIfhpQ"
      },
      "source": [
        "## ⭐️ Вопрос 5\n",
        "\n",
        "В скольких столбцах встречаются пропущенные значения? (ответ - целое число)"
      ]
    },
    {
      "cell_type": "markdown",
      "metadata": {
        "id": "UmIR_gpOfhpR"
      },
      "source": [
        "#### Решение"
      ]
    },
    {
      "cell_type": "code",
      "metadata": {
        "id": "rUPuUnUOfhpS",
        "colab": {
          "base_uri": "https://localhost:8080/"
        },
        "outputId": "fb6ea581-d7f7-49c9-cbc2-8183f52c685f"
      },
      "source": [
        "for colum in df.columns: \n",
        "  print(colum, df[colum].isnull().sum())"
      ],
      "execution_count": null,
      "outputs": [
        {
          "output_type": "stream",
          "name": "stdout",
          "text": [
            "InvoiceNo 0\n",
            "StockCode 0\n",
            "Description 1455\n",
            "Quantity 0\n",
            "InvoiceDate 0\n",
            "UnitPrice 0\n",
            "CustomerID 135080\n",
            "Country 0\n"
          ]
        }
      ]
    },
    {
      "cell_type": "markdown",
      "metadata": {
        "id": "1vTefL-QfhpY"
      },
      "source": [
        "## ⭐️ Вопрос 6\n",
        "\n",
        "Сколько пропущенных значений в столбце CustomerID? (ответ - целое число)"
      ]
    },
    {
      "cell_type": "markdown",
      "metadata": {
        "id": "Gz4hWV3cfhpa"
      },
      "source": [
        "#### Решение"
      ]
    },
    {
      "cell_type": "code",
      "metadata": {
        "id": "yc2USQa2fhpb",
        "colab": {
          "base_uri": "https://localhost:8080/"
        },
        "outputId": "a408097e-527f-4a2a-dea2-5e8a84dd9bdc"
      },
      "source": [
        "df['CustomerID'].isnull().sum()"
      ],
      "execution_count": null,
      "outputs": [
        {
          "output_type": "execute_result",
          "data": {
            "text/plain": [
              "135080"
            ]
          },
          "metadata": {},
          "execution_count": 52
        }
      ]
    },
    {
      "cell_type": "markdown",
      "metadata": {
        "id": "R8z3h8U-fhpj"
      },
      "source": [
        "## ⭐️⭐️ Вопрос 7\n",
        "\n",
        "Посмотрим, данные за какой исторический период у нас есть. \n",
        "\n",
        "Данные за какой самый ранний и за какой самый поздний годы содержатся в датасете? В ответе укажите два целых числа через запятую."
      ]
    },
    {
      "cell_type": "markdown",
      "metadata": {
        "id": "tfgx2MQofhpk"
      },
      "source": [
        "#### Решение"
      ]
    },
    {
      "cell_type": "code",
      "metadata": {
        "id": "tSDJk8Amfhpl",
        "colab": {
          "base_uri": "https://localhost:8080/",
          "height": 206
        },
        "outputId": "6b0212d6-57a5-41ee-9fa3-f592e64fc6eb"
      },
      "source": [
        "import datetime\n",
        "df.head(5)"
      ],
      "execution_count": null,
      "outputs": [
        {
          "output_type": "execute_result",
          "data": {
            "text/html": [
              "<div>\n",
              "<style scoped>\n",
              "    .dataframe tbody tr th:only-of-type {\n",
              "        vertical-align: middle;\n",
              "    }\n",
              "\n",
              "    .dataframe tbody tr th {\n",
              "        vertical-align: top;\n",
              "    }\n",
              "\n",
              "    .dataframe thead th {\n",
              "        text-align: right;\n",
              "    }\n",
              "</style>\n",
              "<table border=\"1\" class=\"dataframe\">\n",
              "  <thead>\n",
              "    <tr style=\"text-align: right;\">\n",
              "      <th></th>\n",
              "      <th>InvoiceNo</th>\n",
              "      <th>StockCode</th>\n",
              "      <th>Description</th>\n",
              "      <th>Quantity</th>\n",
              "      <th>InvoiceDate</th>\n",
              "      <th>UnitPrice</th>\n",
              "      <th>CustomerID</th>\n",
              "      <th>Country</th>\n",
              "    </tr>\n",
              "  </thead>\n",
              "  <tbody>\n",
              "    <tr>\n",
              "      <th>0</th>\n",
              "      <td>536365</td>\n",
              "      <td>85123A</td>\n",
              "      <td>WHITE HANGING HEART T-LIGHT HOLDER</td>\n",
              "      <td>6</td>\n",
              "      <td>2010-12-01 08:26:00</td>\n",
              "      <td>2.55</td>\n",
              "      <td>17850.0</td>\n",
              "      <td>United Kingdom</td>\n",
              "    </tr>\n",
              "    <tr>\n",
              "      <th>1</th>\n",
              "      <td>536365</td>\n",
              "      <td>71053</td>\n",
              "      <td>WHITE METAL LANTERN</td>\n",
              "      <td>6</td>\n",
              "      <td>2010-12-01 08:26:00</td>\n",
              "      <td>3.39</td>\n",
              "      <td>17850.0</td>\n",
              "      <td>United Kingdom</td>\n",
              "    </tr>\n",
              "    <tr>\n",
              "      <th>2</th>\n",
              "      <td>536365</td>\n",
              "      <td>84406B</td>\n",
              "      <td>CREAM CUPID HEARTS COAT HANGER</td>\n",
              "      <td>8</td>\n",
              "      <td>2010-12-01 08:26:00</td>\n",
              "      <td>2.75</td>\n",
              "      <td>17850.0</td>\n",
              "      <td>United Kingdom</td>\n",
              "    </tr>\n",
              "    <tr>\n",
              "      <th>3</th>\n",
              "      <td>536365</td>\n",
              "      <td>84029G</td>\n",
              "      <td>KNITTED UNION FLAG HOT WATER BOTTLE</td>\n",
              "      <td>6</td>\n",
              "      <td>2010-12-01 08:26:00</td>\n",
              "      <td>3.39</td>\n",
              "      <td>17850.0</td>\n",
              "      <td>United Kingdom</td>\n",
              "    </tr>\n",
              "    <tr>\n",
              "      <th>4</th>\n",
              "      <td>536365</td>\n",
              "      <td>84029E</td>\n",
              "      <td>RED WOOLLY HOTTIE WHITE HEART.</td>\n",
              "      <td>6</td>\n",
              "      <td>2010-12-01 08:26:00</td>\n",
              "      <td>3.39</td>\n",
              "      <td>17850.0</td>\n",
              "      <td>United Kingdom</td>\n",
              "    </tr>\n",
              "  </tbody>\n",
              "</table>\n",
              "</div>"
            ],
            "text/plain": [
              "  InvoiceNo StockCode  ... CustomerID         Country\n",
              "0    536365    85123A  ...    17850.0  United Kingdom\n",
              "1    536365     71053  ...    17850.0  United Kingdom\n",
              "2    536365    84406B  ...    17850.0  United Kingdom\n",
              "3    536365    84029G  ...    17850.0  United Kingdom\n",
              "4    536365    84029E  ...    17850.0  United Kingdom\n",
              "\n",
              "[5 rows x 8 columns]"
            ]
          },
          "metadata": {},
          "execution_count": 74
        }
      ]
    },
    {
      "cell_type": "code",
      "metadata": {
        "colab": {
          "base_uri": "https://localhost:8080/"
        },
        "id": "bUt8SASGcHPs",
        "outputId": "6ce13c65-5d8d-41c4-8ac1-9ab902cf6ee7"
      },
      "source": [
        "d = datetime.datetime.strptime('2010-12-01 08:26:00', '%Y-%m-%d %H:%M:%S')\n",
        "print(d.year)"
      ],
      "execution_count": null,
      "outputs": [
        {
          "output_type": "stream",
          "name": "stdout",
          "text": [
            "2010\n"
          ]
        }
      ]
    },
    {
      "cell_type": "code",
      "metadata": {
        "colab": {
          "base_uri": "https://localhost:8080/",
          "height": 144
        },
        "id": "elWRUhwRd9gM",
        "outputId": "c402ddb0-32fa-4194-f504-1e14bc9d8764"
      },
      "source": [
        "df['year'] = df['InvoiceDate'].apply(lambda x: datetime.datetime.strptime(x, '%Y-%m-%d %H:%M:%S').year)\n",
        "df.head(3)"
      ],
      "execution_count": null,
      "outputs": [
        {
          "output_type": "execute_result",
          "data": {
            "text/html": [
              "<div>\n",
              "<style scoped>\n",
              "    .dataframe tbody tr th:only-of-type {\n",
              "        vertical-align: middle;\n",
              "    }\n",
              "\n",
              "    .dataframe tbody tr th {\n",
              "        vertical-align: top;\n",
              "    }\n",
              "\n",
              "    .dataframe thead th {\n",
              "        text-align: right;\n",
              "    }\n",
              "</style>\n",
              "<table border=\"1\" class=\"dataframe\">\n",
              "  <thead>\n",
              "    <tr style=\"text-align: right;\">\n",
              "      <th></th>\n",
              "      <th>InvoiceNo</th>\n",
              "      <th>StockCode</th>\n",
              "      <th>Description</th>\n",
              "      <th>Quantity</th>\n",
              "      <th>InvoiceDate</th>\n",
              "      <th>UnitPrice</th>\n",
              "      <th>CustomerID</th>\n",
              "      <th>Country</th>\n",
              "      <th>year</th>\n",
              "    </tr>\n",
              "  </thead>\n",
              "  <tbody>\n",
              "    <tr>\n",
              "      <th>0</th>\n",
              "      <td>536365</td>\n",
              "      <td>85123A</td>\n",
              "      <td>WHITE HANGING HEART T-LIGHT HOLDER</td>\n",
              "      <td>6</td>\n",
              "      <td>2010-12-01 08:26:00</td>\n",
              "      <td>2.55</td>\n",
              "      <td>17850.0</td>\n",
              "      <td>United Kingdom</td>\n",
              "      <td>2010</td>\n",
              "    </tr>\n",
              "    <tr>\n",
              "      <th>1</th>\n",
              "      <td>536365</td>\n",
              "      <td>71053</td>\n",
              "      <td>WHITE METAL LANTERN</td>\n",
              "      <td>6</td>\n",
              "      <td>2010-12-01 08:26:00</td>\n",
              "      <td>3.39</td>\n",
              "      <td>17850.0</td>\n",
              "      <td>United Kingdom</td>\n",
              "      <td>2010</td>\n",
              "    </tr>\n",
              "    <tr>\n",
              "      <th>2</th>\n",
              "      <td>536365</td>\n",
              "      <td>84406B</td>\n",
              "      <td>CREAM CUPID HEARTS COAT HANGER</td>\n",
              "      <td>8</td>\n",
              "      <td>2010-12-01 08:26:00</td>\n",
              "      <td>2.75</td>\n",
              "      <td>17850.0</td>\n",
              "      <td>United Kingdom</td>\n",
              "      <td>2010</td>\n",
              "    </tr>\n",
              "  </tbody>\n",
              "</table>\n",
              "</div>"
            ],
            "text/plain": [
              "  InvoiceNo StockCode  ...         Country  year\n",
              "0    536365    85123A  ...  United Kingdom  2010\n",
              "1    536365     71053  ...  United Kingdom  2010\n",
              "2    536365    84406B  ...  United Kingdom  2010\n",
              "\n",
              "[3 rows x 9 columns]"
            ]
          },
          "metadata": {},
          "execution_count": 81
        }
      ]
    },
    {
      "cell_type": "code",
      "metadata": {
        "colab": {
          "base_uri": "https://localhost:8080/"
        },
        "id": "PjBZgXRueZi7",
        "outputId": "4170cd21-87c6-412a-e20c-d9d89a2be383"
      },
      "source": [
        "df['year'].describe()"
      ],
      "execution_count": null,
      "outputs": [
        {
          "output_type": "execute_result",
          "data": {
            "text/plain": [
              "count    541911.000000\n",
              "mean       2010.921609\n",
              "std           0.268786\n",
              "min        2010.000000\n",
              "25%        2011.000000\n",
              "50%        2011.000000\n",
              "75%        2011.000000\n",
              "max        2011.000000\n",
              "Name: year, dtype: float64"
            ]
          },
          "metadata": {},
          "execution_count": 83
        }
      ]
    },
    {
      "cell_type": "markdown",
      "metadata": {
        "id": "INuGGvCZfhps"
      },
      "source": [
        "## ⭐️ Вопрос 8\n",
        "\n",
        "Каковы минимальная и максимальная цена товаров (UnitPrice)? Перечислите через запятую. Цена в этом задании может принимать отрицательные значения."
      ]
    },
    {
      "cell_type": "markdown",
      "metadata": {
        "id": "E8j9vHa2fhpt"
      },
      "source": [
        "#### Решение"
      ]
    },
    {
      "cell_type": "code",
      "metadata": {
        "id": "PTFRTpAXfhpu",
        "colab": {
          "base_uri": "https://localhost:8080/"
        },
        "outputId": "23a6a0e0-b9c6-4c51-8b67-b1a9608717b2"
      },
      "source": [
        "print(df['unitprice'].min())\n",
        "print(df['unitprice'].max())"
      ],
      "execution_count": null,
      "outputs": [
        {
          "output_type": "stream",
          "name": "stdout",
          "text": [
            "-11062.06\n",
            "38970.0\n"
          ]
        }
      ]
    },
    {
      "cell_type": "markdown",
      "metadata": {
        "id": "20rRayIcfhp0"
      },
      "source": [
        "## ⭐️ Вопрос 9\n",
        "\n",
        "В таблице оказались товары с отрицательными ценами! Это явно какая-то ошибка. Какое описание (Description) у таких транзакций? Перечислите все варианты через запятую, отсортировав строки по алфавиту."
      ]
    },
    {
      "cell_type": "markdown",
      "metadata": {
        "id": "j9WFSD15fhp1"
      },
      "source": [
        "#### Решение"
      ]
    },
    {
      "cell_type": "code",
      "metadata": {
        "id": "Vta8JNHKfhp3",
        "colab": {
          "base_uri": "https://localhost:8080/"
        },
        "outputId": "fb20e6c5-cf22-4e67-96d8-09407135412a"
      },
      "source": [
        "df[df['UnitPrice'] < 0]['Description'].sort_values()"
      ],
      "execution_count": null,
      "outputs": [
        {
          "output_type": "execute_result",
          "data": {
            "text/plain": [
              "299983    Adjust bad debt\n",
              "299984    Adjust bad debt\n",
              "Name: Description, dtype: object"
            ]
          },
          "metadata": {},
          "execution_count": 97
        }
      ]
    },
    {
      "cell_type": "markdown",
      "metadata": {
        "id": "H1EJKLjAfhp9"
      },
      "source": [
        "## ⭐️ Вопрос 10\n",
        "\n",
        "Поищем ещё возможные проблемы с данными. Как насчёт товаров с нулевыми ценами? \n",
        "\n",
        "Сколько в таблице транзакций с нулевой ценой? А с пропусками на месте цены? \n",
        "\n",
        "Перечислите два целых числа через запятую."
      ]
    },
    {
      "cell_type": "markdown",
      "metadata": {
        "id": "xkDFtXxLfhp-"
      },
      "source": [
        "#### Решение"
      ]
    },
    {
      "cell_type": "code",
      "metadata": {
        "id": "_liV7v63fhp_",
        "colab": {
          "base_uri": "https://localhost:8080/"
        },
        "outputId": "2c9bf8ce-e846-4f1b-df5a-777bb472f014"
      },
      "source": [
        "print(df[df['UnitPrice'] == 0]['UnitPrice'].count())"
      ],
      "execution_count": null,
      "outputs": [
        {
          "output_type": "stream",
          "name": "stdout",
          "text": [
            "2515\n"
          ]
        }
      ]
    },
    {
      "cell_type": "code",
      "metadata": {
        "colab": {
          "base_uri": "https://localhost:8080/"
        },
        "id": "Of21tklFgOEe",
        "outputId": "6d2b339f-ddc0-454a-b138-747e99c72162"
      },
      "source": [
        "print(df['UnitPrice'].isnull().sum())"
      ],
      "execution_count": null,
      "outputs": [
        {
          "output_type": "stream",
          "name": "stdout",
          "text": [
            "0\n"
          ]
        }
      ]
    },
    {
      "cell_type": "markdown",
      "metadata": {
        "id": "Q08_ueCWfhqH"
      },
      "source": [
        "## ⭐️⭐️ Вопрос 11\n",
        "\n",
        "Для дальнейшего анализа поведения покупателей нам понадобится набор данных, в которых у каждой транзакции корректно указана цена, количество единиц товара (Quantity) и id покупателя (CustomerID). Удалите из таблицы все строки, в которых цена не превосходит 0 или пропущена, или количество единиц товара не превосходит 0 или пропущено, или в которых пропущен id покупателя. \n",
        "\n",
        "Сколько строк осталось?"
      ]
    },
    {
      "cell_type": "code",
      "metadata": {
        "id": "3jv8MET2F_lZ"
      },
      "source": [
        "df.columns = [x.lower() for x in df.columns]"
      ],
      "execution_count": null,
      "outputs": []
    },
    {
      "cell_type": "markdown",
      "metadata": {
        "id": "0zs9ntOGfhqI"
      },
      "source": [
        "#### Решение"
      ]
    },
    {
      "cell_type": "code",
      "metadata": {
        "id": "46HTX2BJfhqJ",
        "colab": {
          "base_uri": "https://localhost:8080/"
        },
        "outputId": "62ac301c-cf17-4c0c-dcc4-5a6a37761324"
      },
      "source": [
        "df_cl = df[(df['unitprice'] > 0) &\n",
        "           (df['unitprice'].isnull() == 0) &\n",
        "           (df['quantity'] > 0) &\n",
        "           (df['quantity'].isnull() == 0) &\n",
        "           (df['customerid'].isnull() == 0)]\n",
        "df_cl.shape[0]"
      ],
      "execution_count": null,
      "outputs": [
        {
          "output_type": "execute_result",
          "data": {
            "text/plain": [
              "397886"
            ]
          },
          "metadata": {},
          "execution_count": 5
        }
      ]
    },
    {
      "cell_type": "markdown",
      "metadata": {
        "id": "807cvilFfhqO"
      },
      "source": [
        "## Внимание! \n",
        "\n",
        "### Везде далее мы работаем с очищенной таблицей, полученной в Вопросе 11."
      ]
    },
    {
      "cell_type": "markdown",
      "metadata": {
        "id": "4dnjXB-qfhqP"
      },
      "source": [
        "## ⭐️⭐️ Вопрос 12\n",
        "\n",
        "В таблице для каждой транзакции указаны цена за единицу товара (UnitPrice) и количество единиц товара (Quantity). Вычислите для каждой транзакции её **полную стоимость** и сохраните в новом столбце Price, который добавьте в таблицу. \n",
        "\n",
        "Каковы минимальная и максимальная полная стоимость транзакций? Перечислите через запятую, округлив до целых чисел."
      ]
    },
    {
      "cell_type": "markdown",
      "metadata": {
        "id": "3SFNrkb-fhqQ"
      },
      "source": [
        "#### Решение"
      ]
    },
    {
      "cell_type": "code",
      "metadata": {
        "id": "iIIRF_p-fhqS",
        "colab": {
          "base_uri": "https://localhost:8080/"
        },
        "outputId": "484edbc7-e1dc-4092-d855-34444f1783e9"
      },
      "source": [
        "df_cl['price'] = df_cl['unitprice'] * df_cl['quantity']"
      ],
      "execution_count": null,
      "outputs": [
        {
          "output_type": "stream",
          "name": "stderr",
          "text": [
            "/usr/local/lib/python3.7/dist-packages/ipykernel_launcher.py:1: SettingWithCopyWarning: \n",
            "A value is trying to be set on a copy of a slice from a DataFrame.\n",
            "Try using .loc[row_indexer,col_indexer] = value instead\n",
            "\n",
            "See the caveats in the documentation: https://pandas.pydata.org/pandas-docs/stable/user_guide/indexing.html#returning-a-view-versus-a-copy\n",
            "  \"\"\"Entry point for launching an IPython kernel.\n"
          ]
        }
      ]
    },
    {
      "cell_type": "code",
      "metadata": {
        "colab": {
          "base_uri": "https://localhost:8080/"
        },
        "id": "cwmo9yBsmEXg",
        "outputId": "163eec6c-55be-4be8-8592-c719c339f44b"
      },
      "source": [
        "print(round(df_cl['price'].min(), 0))\n",
        "print(round(df_cl['price'].max(), 0))"
      ],
      "execution_count": null,
      "outputs": [
        {
          "output_type": "stream",
          "name": "stdout",
          "text": [
            "0.0\n",
            "168470.0\n"
          ]
        }
      ]
    },
    {
      "cell_type": "markdown",
      "metadata": {
        "id": "iXwEUbpAfhqX"
      },
      "source": [
        "## ⭐️⭐️ Вопрос 13\n",
        "\n",
        "В нашей базе данных каждая покупка представлена одной или несколькими транзакциями. Покупка однозначно определяется своим номером инвойса (InvoiceNo). Транзакции, относящиеся к одной покупке, имеют один и тот же InvoiceNo. \n",
        "\n",
        "Стоимость всей покупки равна сумме полных стоимостей транзакций, входящих в неё. Найдите стоимости трёх самых дорогих покупок. Перечислите через запятую в порядке убывания, округлив до целых чисел."
      ]
    },
    {
      "cell_type": "markdown",
      "metadata": {
        "id": "U-uH-V9BfhqZ"
      },
      "source": [
        "#### Решение"
      ]
    },
    {
      "cell_type": "code",
      "metadata": {
        "colab": {
          "base_uri": "https://localhost:8080/",
          "height": 81
        },
        "id": "-zCoILQgNNmG",
        "outputId": "f2a2133e-7244-4856-bb42-d2d88f490731"
      },
      "source": [
        "df_cl.head(1)"
      ],
      "execution_count": null,
      "outputs": [
        {
          "output_type": "execute_result",
          "data": {
            "text/html": [
              "<div>\n",
              "<style scoped>\n",
              "    .dataframe tbody tr th:only-of-type {\n",
              "        vertical-align: middle;\n",
              "    }\n",
              "\n",
              "    .dataframe tbody tr th {\n",
              "        vertical-align: top;\n",
              "    }\n",
              "\n",
              "    .dataframe thead th {\n",
              "        text-align: right;\n",
              "    }\n",
              "</style>\n",
              "<table border=\"1\" class=\"dataframe\">\n",
              "  <thead>\n",
              "    <tr style=\"text-align: right;\">\n",
              "      <th></th>\n",
              "      <th>invoiceno</th>\n",
              "      <th>stockcode</th>\n",
              "      <th>description</th>\n",
              "      <th>quantity</th>\n",
              "      <th>invoicedate</th>\n",
              "      <th>unitprice</th>\n",
              "      <th>customerid</th>\n",
              "      <th>country</th>\n",
              "      <th>price</th>\n",
              "    </tr>\n",
              "  </thead>\n",
              "  <tbody>\n",
              "    <tr>\n",
              "      <th>0</th>\n",
              "      <td>536365</td>\n",
              "      <td>85123A</td>\n",
              "      <td>WHITE HANGING HEART T-LIGHT HOLDER</td>\n",
              "      <td>6</td>\n",
              "      <td>2010-12-01 08:26:00</td>\n",
              "      <td>2.55</td>\n",
              "      <td>17850.0</td>\n",
              "      <td>United Kingdom</td>\n",
              "      <td>15.3</td>\n",
              "    </tr>\n",
              "  </tbody>\n",
              "</table>\n",
              "</div>"
            ],
            "text/plain": [
              "  invoiceno stockcode  ...         country  price\n",
              "0    536365    85123A  ...  United Kingdom   15.3\n",
              "\n",
              "[1 rows x 9 columns]"
            ]
          },
          "metadata": {},
          "execution_count": 8
        }
      ]
    },
    {
      "cell_type": "code",
      "metadata": {
        "id": "7eRtSDp0fhqZ",
        "colab": {
          "base_uri": "https://localhost:8080/"
        },
        "outputId": "118a2146-79bb-43ad-ba06-17919828473b"
      },
      "source": [
        "top_list = df_cl.groupby('invoiceno').agg('sum').reset_index()[['invoiceno','price']].nlargest(columns ='price', n = 3)\n",
        "for i in top_list['price']:\n",
        "  print(round(i,0))"
      ],
      "execution_count": null,
      "outputs": [
        {
          "output_type": "stream",
          "name": "stdout",
          "text": [
            "168470.0\n",
            "77184.0\n",
            "38970.0\n"
          ]
        }
      ]
    },
    {
      "cell_type": "markdown",
      "metadata": {
        "id": "OOFeUBI4fhqd"
      },
      "source": [
        "## ⭐️⭐️ Вопрос 14\n",
        "\n",
        "Какой товар составил наибольшую выручку? В ответе укажите описание товара (дословно строку из соответствующего поля в столбце Description)."
      ]
    },
    {
      "cell_type": "markdown",
      "metadata": {
        "id": "eHIxsT_Mfhqf"
      },
      "source": [
        "#### Решение"
      ]
    },
    {
      "cell_type": "code",
      "metadata": {
        "colab": {
          "base_uri": "https://localhost:8080/",
          "height": 81
        },
        "id": "iZQ07XuooV6A",
        "outputId": "9a36a577-4a88-4caf-b509-2097e8a8494f"
      },
      "source": [
        "top_stock = df_cl.groupby('description').agg('sum').reset_index()[['description','price']].nlargest(columns ='price', n = 1)\n",
        "top_stock"
      ],
      "execution_count": null,
      "outputs": [
        {
          "output_type": "execute_result",
          "data": {
            "text/html": [
              "<div>\n",
              "<style scoped>\n",
              "    .dataframe tbody tr th:only-of-type {\n",
              "        vertical-align: middle;\n",
              "    }\n",
              "\n",
              "    .dataframe tbody tr th {\n",
              "        vertical-align: top;\n",
              "    }\n",
              "\n",
              "    .dataframe thead th {\n",
              "        text-align: right;\n",
              "    }\n",
              "</style>\n",
              "<table border=\"1\" class=\"dataframe\">\n",
              "  <thead>\n",
              "    <tr style=\"text-align: right;\">\n",
              "      <th></th>\n",
              "      <th>description</th>\n",
              "      <th>price</th>\n",
              "    </tr>\n",
              "  </thead>\n",
              "  <tbody>\n",
              "    <tr>\n",
              "      <th>2310</th>\n",
              "      <td>PAPER CRAFT , LITTLE BIRDIE</td>\n",
              "      <td>168469.6</td>\n",
              "    </tr>\n",
              "  </tbody>\n",
              "</table>\n",
              "</div>"
            ],
            "text/plain": [
              "                      description     price\n",
              "2310  PAPER CRAFT , LITTLE BIRDIE  168469.6"
            ]
          },
          "metadata": {},
          "execution_count": 20
        }
      ]
    },
    {
      "cell_type": "markdown",
      "metadata": {
        "id": "x7takqgnfhqj"
      },
      "source": [
        "## ⭐️⭐️ Вопрос 15\n",
        "\n",
        "Создайте новую таблицу purchases, в которой каждая строка будет соответствовать отдельной покупке, со столбцами \n",
        "InvoiceNo, InvoiceDate, Price, CustomerID, Country.\n",
        "\n",
        "Поскольку дата InvoiceDate может быть отличаться для разных транзакций внутри одной покупки, при группировке возьмите самую раннюю из дат. Также отсортируйте её по датам по возрастанию.\n",
        "\n",
        "Учтите, что InvoiceDate — не уникальное поле, данные стоит дополнительно отсортировать по InvoiceNo, перед тем как брать первое значение группы.\n",
        "\n",
        "Сколько получилось строк?"
      ]
    },
    {
      "cell_type": "markdown",
      "metadata": {
        "id": "LDLweA0Yfhqj"
      },
      "source": [
        "#### Решение"
      ]
    },
    {
      "cell_type": "code",
      "metadata": {
        "colab": {
          "base_uri": "https://localhost:8080/",
          "height": 81
        },
        "id": "sGwPYvpLPg2A",
        "outputId": "eac9ecc5-0782-40a6-f26c-a4228e67d145"
      },
      "source": [
        "df_cl.head(1)"
      ],
      "execution_count": null,
      "outputs": [
        {
          "output_type": "execute_result",
          "data": {
            "text/html": [
              "<div>\n",
              "<style scoped>\n",
              "    .dataframe tbody tr th:only-of-type {\n",
              "        vertical-align: middle;\n",
              "    }\n",
              "\n",
              "    .dataframe tbody tr th {\n",
              "        vertical-align: top;\n",
              "    }\n",
              "\n",
              "    .dataframe thead th {\n",
              "        text-align: right;\n",
              "    }\n",
              "</style>\n",
              "<table border=\"1\" class=\"dataframe\">\n",
              "  <thead>\n",
              "    <tr style=\"text-align: right;\">\n",
              "      <th></th>\n",
              "      <th>invoiceno</th>\n",
              "      <th>stockcode</th>\n",
              "      <th>description</th>\n",
              "      <th>quantity</th>\n",
              "      <th>invoicedate</th>\n",
              "      <th>unitprice</th>\n",
              "      <th>customerid</th>\n",
              "      <th>country</th>\n",
              "      <th>price</th>\n",
              "    </tr>\n",
              "  </thead>\n",
              "  <tbody>\n",
              "    <tr>\n",
              "      <th>0</th>\n",
              "      <td>536365</td>\n",
              "      <td>85123A</td>\n",
              "      <td>WHITE HANGING HEART T-LIGHT HOLDER</td>\n",
              "      <td>6</td>\n",
              "      <td>2010-12-01 08:26:00</td>\n",
              "      <td>2.55</td>\n",
              "      <td>17850.0</td>\n",
              "      <td>United Kingdom</td>\n",
              "      <td>15.3</td>\n",
              "    </tr>\n",
              "  </tbody>\n",
              "</table>\n",
              "</div>"
            ],
            "text/plain": [
              "  invoiceno stockcode  ...         country  price\n",
              "0    536365    85123A  ...  United Kingdom   15.3\n",
              "\n",
              "[1 rows x 9 columns]"
            ]
          },
          "metadata": {},
          "execution_count": 22
        }
      ]
    },
    {
      "cell_type": "code",
      "metadata": {
        "id": "jkjImvCXfhql"
      },
      "source": [
        " purchases = df_cl.sort_values(['invoiceno', 'invoicedate']).\\\n",
        " groupby('invoiceno').agg({'invoicedate' : 'first', 'price' : 'sum', 'customerid' : 'first', 'country': 'first'}).\\\n",
        " reset_index()[['invoiceno', 'invoicedate', 'price', 'customerid', 'country']]"
      ],
      "execution_count": null,
      "outputs": []
    },
    {
      "cell_type": "code",
      "metadata": {
        "colab": {
          "base_uri": "https://localhost:8080/",
          "height": 206
        },
        "id": "D7hccXG7SrRH",
        "outputId": "fe1e8051-2e12-4b86-da74-248a5baede29"
      },
      "source": [
        " purchases.head()"
      ],
      "execution_count": null,
      "outputs": [
        {
          "output_type": "execute_result",
          "data": {
            "text/html": [
              "<div>\n",
              "<style scoped>\n",
              "    .dataframe tbody tr th:only-of-type {\n",
              "        vertical-align: middle;\n",
              "    }\n",
              "\n",
              "    .dataframe tbody tr th {\n",
              "        vertical-align: top;\n",
              "    }\n",
              "\n",
              "    .dataframe thead th {\n",
              "        text-align: right;\n",
              "    }\n",
              "</style>\n",
              "<table border=\"1\" class=\"dataframe\">\n",
              "  <thead>\n",
              "    <tr style=\"text-align: right;\">\n",
              "      <th></th>\n",
              "      <th>invoiceno</th>\n",
              "      <th>invoicedate</th>\n",
              "      <th>price</th>\n",
              "      <th>customerid</th>\n",
              "      <th>country</th>\n",
              "    </tr>\n",
              "  </thead>\n",
              "  <tbody>\n",
              "    <tr>\n",
              "      <th>0</th>\n",
              "      <td>536365</td>\n",
              "      <td>2010-12-01 08:26:00</td>\n",
              "      <td>139.12</td>\n",
              "      <td>17850.0</td>\n",
              "      <td>United Kingdom</td>\n",
              "    </tr>\n",
              "    <tr>\n",
              "      <th>1</th>\n",
              "      <td>536366</td>\n",
              "      <td>2010-12-01 08:28:00</td>\n",
              "      <td>22.20</td>\n",
              "      <td>17850.0</td>\n",
              "      <td>United Kingdom</td>\n",
              "    </tr>\n",
              "    <tr>\n",
              "      <th>2</th>\n",
              "      <td>536367</td>\n",
              "      <td>2010-12-01 08:34:00</td>\n",
              "      <td>278.73</td>\n",
              "      <td>13047.0</td>\n",
              "      <td>United Kingdom</td>\n",
              "    </tr>\n",
              "    <tr>\n",
              "      <th>3</th>\n",
              "      <td>536368</td>\n",
              "      <td>2010-12-01 08:34:00</td>\n",
              "      <td>70.05</td>\n",
              "      <td>13047.0</td>\n",
              "      <td>United Kingdom</td>\n",
              "    </tr>\n",
              "    <tr>\n",
              "      <th>4</th>\n",
              "      <td>536369</td>\n",
              "      <td>2010-12-01 08:35:00</td>\n",
              "      <td>17.85</td>\n",
              "      <td>13047.0</td>\n",
              "      <td>United Kingdom</td>\n",
              "    </tr>\n",
              "  </tbody>\n",
              "</table>\n",
              "</div>"
            ],
            "text/plain": [
              "  invoiceno          invoicedate   price  customerid         country\n",
              "0    536365  2010-12-01 08:26:00  139.12     17850.0  United Kingdom\n",
              "1    536366  2010-12-01 08:28:00   22.20     17850.0  United Kingdom\n",
              "2    536367  2010-12-01 08:34:00  278.73     13047.0  United Kingdom\n",
              "3    536368  2010-12-01 08:34:00   70.05     13047.0  United Kingdom\n",
              "4    536369  2010-12-01 08:35:00   17.85     13047.0  United Kingdom"
            ]
          },
          "metadata": {},
          "execution_count": 35
        }
      ]
    },
    {
      "cell_type": "code",
      "metadata": {
        "colab": {
          "base_uri": "https://localhost:8080/"
        },
        "id": "Kl1NGX5JSxuZ",
        "outputId": "de86289e-ec61-4346-f5c9-cde517a16bf7"
      },
      "source": [
        " purchases.shape[0]"
      ],
      "execution_count": null,
      "outputs": [
        {
          "output_type": "execute_result",
          "data": {
            "text/plain": [
              "18533"
            ]
          },
          "metadata": {},
          "execution_count": 36
        }
      ]
    },
    {
      "cell_type": "markdown",
      "metadata": {
        "id": "wsDjduFpfhqp"
      },
      "source": [
        "## ⭐️⭐️ Вопрос 16\n",
        "\n",
        "Исследуем, растут или убывают покупки наших клиентов после их первой покупки на сайте. Найдите среднюю цену первых покупок клиентов: для каждого клиента возьмите его первую покупку и усредните эти значения. Найдите среднюю цену покупок в целом. Округлите эти числа до целых и перечислите в этом порядке через запятую.\n",
        "\n",
        "\\* При равных TimeStamp по покупкам первой считается покупка с меньшим InvoiceNo."
      ]
    },
    {
      "cell_type": "markdown",
      "metadata": {
        "id": "rzpArrmkfhqq"
      },
      "source": [
        "#### Решение"
      ]
    },
    {
      "cell_type": "code",
      "metadata": {
        "id": "4fvR_p2Bfhqq"
      },
      "source": [
        "firs_buy = purchases[['customerid', 'invoicedate', 'invoiceno']].groupby('customerid').agg('min')\n",
        "df_firs_buy_mean = purchases[(purchases['invoicedate'].isin(firs_buy['invoicedate'])) & (purchases['invoiceno'].isin(firs_buy['invoiceno']))]['price'].mean()"
      ],
      "execution_count": null,
      "outputs": []
    },
    {
      "cell_type": "code",
      "metadata": {
        "id": "_1S7hWSfOwFN"
      },
      "source": [
        "df_all_buy_mean = purchases['price'].mean()"
      ],
      "execution_count": null,
      "outputs": []
    },
    {
      "cell_type": "code",
      "metadata": {
        "colab": {
          "base_uri": "https://localhost:8080/"
        },
        "id": "m7FpHl04PCm2",
        "outputId": "3fa3516a-30cf-47a9-af77-5dfe2cbb637e"
      },
      "source": [
        "print(round(df_firs_buy_mean, 0))\n",
        "print(round(df_all_buy_mean, 0))"
      ],
      "execution_count": null,
      "outputs": [
        {
          "output_type": "stream",
          "name": "stdout",
          "text": [
            "426.0\n",
            "481.0\n"
          ]
        }
      ]
    },
    {
      "cell_type": "markdown",
      "metadata": {
        "id": "Qxcpz-aVfhqv"
      },
      "source": [
        "## ⭐️⭐️⭐️ Вопрос 17\n",
        "\n",
        "В какой день недели было наибольшее число покупок? В ответе укажите русское название дня недели, начинающееся с заглавной буквы.\n",
        "\n",
        "\n",
        "Подсказка: \n",
        "* Преобразуйте тип данных в столбце InvoiceDate таблицы purchases из строк в datetime. \n",
        "* Для каждой покупки вычислите день недели, в который она была совершена. Сохраните в новый столбец.\n",
        "* Сгруппируйте таблицу по дням недели."
      ]
    },
    {
      "cell_type": "markdown",
      "metadata": {
        "id": "jlX_adwbfhqw"
      },
      "source": [
        "#### Решение"
      ]
    },
    {
      "cell_type": "code",
      "metadata": {
        "id": "WTNLys9dfhqw",
        "colab": {
          "base_uri": "https://localhost:8080/",
          "height": 206
        },
        "outputId": "a28d2f39-17b7-4479-a6f6-cf374a51bf85"
      },
      "source": [
        "import datetime\n",
        "import calendar\n",
        "\n",
        "purchases['weekday'] = purchases['invoicedate'].iloc[:].apply(lambda x: calendar.day_name[datetime.datetime.strptime(x, '%Y-%m-%d %H:%M:%S').weekday()])\n",
        "purchases.tail()\n"
      ],
      "execution_count": null,
      "outputs": [
        {
          "output_type": "execute_result",
          "data": {
            "text/html": [
              "<div>\n",
              "<style scoped>\n",
              "    .dataframe tbody tr th:only-of-type {\n",
              "        vertical-align: middle;\n",
              "    }\n",
              "\n",
              "    .dataframe tbody tr th {\n",
              "        vertical-align: top;\n",
              "    }\n",
              "\n",
              "    .dataframe thead th {\n",
              "        text-align: right;\n",
              "    }\n",
              "</style>\n",
              "<table border=\"1\" class=\"dataframe\">\n",
              "  <thead>\n",
              "    <tr style=\"text-align: right;\">\n",
              "      <th></th>\n",
              "      <th>invoiceno</th>\n",
              "      <th>invoicedate</th>\n",
              "      <th>price</th>\n",
              "      <th>customerid</th>\n",
              "      <th>country</th>\n",
              "      <th>weekday</th>\n",
              "    </tr>\n",
              "  </thead>\n",
              "  <tbody>\n",
              "    <tr>\n",
              "      <th>18528</th>\n",
              "      <td>581584</td>\n",
              "      <td>2011-12-09 12:25:00</td>\n",
              "      <td>140.64</td>\n",
              "      <td>13777.0</td>\n",
              "      <td>United Kingdom</td>\n",
              "      <td>Friday</td>\n",
              "    </tr>\n",
              "    <tr>\n",
              "      <th>18529</th>\n",
              "      <td>581585</td>\n",
              "      <td>2011-12-09 12:31:00</td>\n",
              "      <td>329.05</td>\n",
              "      <td>15804.0</td>\n",
              "      <td>United Kingdom</td>\n",
              "      <td>Friday</td>\n",
              "    </tr>\n",
              "    <tr>\n",
              "      <th>18530</th>\n",
              "      <td>581586</td>\n",
              "      <td>2011-12-09 12:49:00</td>\n",
              "      <td>339.20</td>\n",
              "      <td>13113.0</td>\n",
              "      <td>United Kingdom</td>\n",
              "      <td>Friday</td>\n",
              "    </tr>\n",
              "    <tr>\n",
              "      <th>18531</th>\n",
              "      <td>581587</td>\n",
              "      <td>2011-12-09 12:50:00</td>\n",
              "      <td>249.45</td>\n",
              "      <td>12680.0</td>\n",
              "      <td>France</td>\n",
              "      <td>Friday</td>\n",
              "    </tr>\n",
              "    <tr>\n",
              "      <th>18532</th>\n",
              "      <td>581588</td>\n",
              "      <td>2011-12-09 12:52:00</td>\n",
              "      <td>37.80</td>\n",
              "      <td>12594.0</td>\n",
              "      <td>Italy</td>\n",
              "      <td>Friday</td>\n",
              "    </tr>\n",
              "  </tbody>\n",
              "</table>\n",
              "</div>"
            ],
            "text/plain": [
              "      invoiceno          invoicedate  ...         country  weekday\n",
              "18528    581584  2011-12-09 12:25:00  ...  United Kingdom   Friday\n",
              "18529    581585  2011-12-09 12:31:00  ...  United Kingdom   Friday\n",
              "18530    581586  2011-12-09 12:49:00  ...  United Kingdom   Friday\n",
              "18531    581587  2011-12-09 12:50:00  ...          France   Friday\n",
              "18532    581588  2011-12-09 12:52:00  ...           Italy   Friday\n",
              "\n",
              "[5 rows x 6 columns]"
            ]
          },
          "metadata": {},
          "execution_count": 40
        }
      ]
    },
    {
      "cell_type": "code",
      "metadata": {
        "id": "zA1xbIroW8Pk"
      },
      "source": [
        "def rus_dayweek(day):\n",
        "  if day == 'Sonday':\n",
        "    return 'Воскресенье'\n",
        "  elif day == 'Monday':\n",
        "    return 'Понедельник'\n",
        "  elif day == 'Tuesday':\n",
        "    return 'Вторник'\n",
        "  elif day == 'Wednesday':\n",
        "    return 'Среда'\n",
        "  elif day == 'Thursday':\n",
        "    return 'Четверг'\n",
        "  elif day == 'Friday':\n",
        "    return 'Пятница'\n",
        "  elif day == 'Saturday':\n",
        "    return 'Суббота'"
      ],
      "execution_count": null,
      "outputs": []
    },
    {
      "cell_type": "code",
      "metadata": {
        "colab": {
          "base_uri": "https://localhost:8080/",
          "height": 206
        },
        "id": "lehuc71DXzBW",
        "outputId": "422551a3-c731-4df8-953b-b82d5efc8413"
      },
      "source": [
        "purchases['weekday'] = purchases['weekday'].iloc[:].apply(lambda x: rus_dayweek(x))\n",
        "purchases.tail()"
      ],
      "execution_count": null,
      "outputs": [
        {
          "output_type": "execute_result",
          "data": {
            "text/html": [
              "<div>\n",
              "<style scoped>\n",
              "    .dataframe tbody tr th:only-of-type {\n",
              "        vertical-align: middle;\n",
              "    }\n",
              "\n",
              "    .dataframe tbody tr th {\n",
              "        vertical-align: top;\n",
              "    }\n",
              "\n",
              "    .dataframe thead th {\n",
              "        text-align: right;\n",
              "    }\n",
              "</style>\n",
              "<table border=\"1\" class=\"dataframe\">\n",
              "  <thead>\n",
              "    <tr style=\"text-align: right;\">\n",
              "      <th></th>\n",
              "      <th>invoiceno</th>\n",
              "      <th>invoicedate</th>\n",
              "      <th>price</th>\n",
              "      <th>customerid</th>\n",
              "      <th>country</th>\n",
              "      <th>weekday</th>\n",
              "    </tr>\n",
              "  </thead>\n",
              "  <tbody>\n",
              "    <tr>\n",
              "      <th>18528</th>\n",
              "      <td>581584</td>\n",
              "      <td>2011-12-09 12:25:00</td>\n",
              "      <td>140.64</td>\n",
              "      <td>13777.0</td>\n",
              "      <td>United Kingdom</td>\n",
              "      <td>Пятница</td>\n",
              "    </tr>\n",
              "    <tr>\n",
              "      <th>18529</th>\n",
              "      <td>581585</td>\n",
              "      <td>2011-12-09 12:31:00</td>\n",
              "      <td>329.05</td>\n",
              "      <td>15804.0</td>\n",
              "      <td>United Kingdom</td>\n",
              "      <td>Пятница</td>\n",
              "    </tr>\n",
              "    <tr>\n",
              "      <th>18530</th>\n",
              "      <td>581586</td>\n",
              "      <td>2011-12-09 12:49:00</td>\n",
              "      <td>339.20</td>\n",
              "      <td>13113.0</td>\n",
              "      <td>United Kingdom</td>\n",
              "      <td>Пятница</td>\n",
              "    </tr>\n",
              "    <tr>\n",
              "      <th>18531</th>\n",
              "      <td>581587</td>\n",
              "      <td>2011-12-09 12:50:00</td>\n",
              "      <td>249.45</td>\n",
              "      <td>12680.0</td>\n",
              "      <td>France</td>\n",
              "      <td>Пятница</td>\n",
              "    </tr>\n",
              "    <tr>\n",
              "      <th>18532</th>\n",
              "      <td>581588</td>\n",
              "      <td>2011-12-09 12:52:00</td>\n",
              "      <td>37.80</td>\n",
              "      <td>12594.0</td>\n",
              "      <td>Italy</td>\n",
              "      <td>Пятница</td>\n",
              "    </tr>\n",
              "  </tbody>\n",
              "</table>\n",
              "</div>"
            ],
            "text/plain": [
              "      invoiceno          invoicedate  ...         country  weekday\n",
              "18528    581584  2011-12-09 12:25:00  ...  United Kingdom  Пятница\n",
              "18529    581585  2011-12-09 12:31:00  ...  United Kingdom  Пятница\n",
              "18530    581586  2011-12-09 12:49:00  ...  United Kingdom  Пятница\n",
              "18531    581587  2011-12-09 12:50:00  ...          France  Пятница\n",
              "18532    581588  2011-12-09 12:52:00  ...           Italy  Пятница\n",
              "\n",
              "[5 rows x 6 columns]"
            ]
          },
          "metadata": {},
          "execution_count": 41
        }
      ]
    },
    {
      "cell_type": "code",
      "metadata": {
        "colab": {
          "base_uri": "https://localhost:8080/",
          "height": 144
        },
        "id": "Zv9QiLM3Wqv3",
        "outputId": "63dfa405-8b77-45c4-d2ba-0ede4aebcfb9"
      },
      "source": [
        "purchases.groupby('weekday').agg('count').reset_index().nlargest(columns = 'invoiceno', n = 3)"
      ],
      "execution_count": null,
      "outputs": [
        {
          "output_type": "execute_result",
          "data": {
            "text/html": [
              "<div>\n",
              "<style scoped>\n",
              "    .dataframe tbody tr th:only-of-type {\n",
              "        vertical-align: middle;\n",
              "    }\n",
              "\n",
              "    .dataframe tbody tr th {\n",
              "        vertical-align: top;\n",
              "    }\n",
              "\n",
              "    .dataframe thead th {\n",
              "        text-align: right;\n",
              "    }\n",
              "</style>\n",
              "<table border=\"1\" class=\"dataframe\">\n",
              "  <thead>\n",
              "    <tr style=\"text-align: right;\">\n",
              "      <th></th>\n",
              "      <th>weekday</th>\n",
              "      <th>invoiceno</th>\n",
              "      <th>invoicedate</th>\n",
              "      <th>price</th>\n",
              "      <th>customerid</th>\n",
              "      <th>country</th>\n",
              "    </tr>\n",
              "  </thead>\n",
              "  <tbody>\n",
              "    <tr>\n",
              "      <th>4</th>\n",
              "      <td>Четверг</td>\n",
              "      <td>4032</td>\n",
              "      <td>4032</td>\n",
              "      <td>4032</td>\n",
              "      <td>4032</td>\n",
              "      <td>4032</td>\n",
              "    </tr>\n",
              "    <tr>\n",
              "      <th>3</th>\n",
              "      <td>Среда</td>\n",
              "      <td>3455</td>\n",
              "      <td>3455</td>\n",
              "      <td>3455</td>\n",
              "      <td>3455</td>\n",
              "      <td>3455</td>\n",
              "    </tr>\n",
              "    <tr>\n",
              "      <th>0</th>\n",
              "      <td>Вторник</td>\n",
              "      <td>3184</td>\n",
              "      <td>3184</td>\n",
              "      <td>3184</td>\n",
              "      <td>3184</td>\n",
              "      <td>3184</td>\n",
              "    </tr>\n",
              "  </tbody>\n",
              "</table>\n",
              "</div>"
            ],
            "text/plain": [
              "   weekday  invoiceno  invoicedate  price  customerid  country\n",
              "4  Четверг       4032         4032   4032        4032     4032\n",
              "3    Среда       3455         3455   3455        3455     3455\n",
              "0  Вторник       3184         3184   3184        3184     3184"
            ]
          },
          "metadata": {},
          "execution_count": 32
        }
      ]
    },
    {
      "cell_type": "markdown",
      "metadata": {
        "id": "G84tAqVTfhq1"
      },
      "source": [
        "## ⭐️⭐️⭐️ Вопрос 18\n",
        "\n",
        "В какой год и месяц выручка была максимальной?\n",
        "\n",
        "Подсказка: \n",
        "* Преобразуйте тип данных в столбце InvoiceDate таблицы purchases из строк в datetime. \n",
        "* Для каждой покупки вычислите год и месяц, в которые она была совершена. Сохраните в новые столбцы.\n",
        "* Сгруппируйте таблицу по новым столбцам\n",
        "\n",
        "В ответе укажите два целых числа через запятую: год, месяц"
      ]
    },
    {
      "cell_type": "markdown",
      "metadata": {
        "id": "k7b_70CIfhq2"
      },
      "source": [
        "#### Решение"
      ]
    },
    {
      "cell_type": "code",
      "metadata": {
        "id": "C7YosvXBfhq2",
        "colab": {
          "base_uri": "https://localhost:8080/",
          "height": 206
        },
        "outputId": "dee02827-9f82-4a61-a7e9-331fbb907083"
      },
      "source": [
        "purchases['month'] = purchases['invoicedate'].iloc[:].apply(lambda x: datetime.datetime.strptime(x, '%Y-%m-%d %H:%M:%S').month)\n",
        "purchases['year'] = purchases['invoicedate'].iloc[:].apply(lambda x: datetime.datetime.strptime(x, '%Y-%m-%d %H:%M:%S').year)\n",
        "purchases.tail()"
      ],
      "execution_count": null,
      "outputs": [
        {
          "output_type": "execute_result",
          "data": {
            "text/html": [
              "<div>\n",
              "<style scoped>\n",
              "    .dataframe tbody tr th:only-of-type {\n",
              "        vertical-align: middle;\n",
              "    }\n",
              "\n",
              "    .dataframe tbody tr th {\n",
              "        vertical-align: top;\n",
              "    }\n",
              "\n",
              "    .dataframe thead th {\n",
              "        text-align: right;\n",
              "    }\n",
              "</style>\n",
              "<table border=\"1\" class=\"dataframe\">\n",
              "  <thead>\n",
              "    <tr style=\"text-align: right;\">\n",
              "      <th></th>\n",
              "      <th>invoiceno</th>\n",
              "      <th>invoicedate</th>\n",
              "      <th>price</th>\n",
              "      <th>customerid</th>\n",
              "      <th>country</th>\n",
              "      <th>weekday</th>\n",
              "      <th>month</th>\n",
              "      <th>year</th>\n",
              "    </tr>\n",
              "  </thead>\n",
              "  <tbody>\n",
              "    <tr>\n",
              "      <th>18528</th>\n",
              "      <td>581584</td>\n",
              "      <td>2011-12-09 12:25:00</td>\n",
              "      <td>140.64</td>\n",
              "      <td>13777.0</td>\n",
              "      <td>United Kingdom</td>\n",
              "      <td>Пятница</td>\n",
              "      <td>12</td>\n",
              "      <td>2011</td>\n",
              "    </tr>\n",
              "    <tr>\n",
              "      <th>18529</th>\n",
              "      <td>581585</td>\n",
              "      <td>2011-12-09 12:31:00</td>\n",
              "      <td>329.05</td>\n",
              "      <td>15804.0</td>\n",
              "      <td>United Kingdom</td>\n",
              "      <td>Пятница</td>\n",
              "      <td>12</td>\n",
              "      <td>2011</td>\n",
              "    </tr>\n",
              "    <tr>\n",
              "      <th>18530</th>\n",
              "      <td>581586</td>\n",
              "      <td>2011-12-09 12:49:00</td>\n",
              "      <td>339.20</td>\n",
              "      <td>13113.0</td>\n",
              "      <td>United Kingdom</td>\n",
              "      <td>Пятница</td>\n",
              "      <td>12</td>\n",
              "      <td>2011</td>\n",
              "    </tr>\n",
              "    <tr>\n",
              "      <th>18531</th>\n",
              "      <td>581587</td>\n",
              "      <td>2011-12-09 12:50:00</td>\n",
              "      <td>249.45</td>\n",
              "      <td>12680.0</td>\n",
              "      <td>France</td>\n",
              "      <td>Пятница</td>\n",
              "      <td>12</td>\n",
              "      <td>2011</td>\n",
              "    </tr>\n",
              "    <tr>\n",
              "      <th>18532</th>\n",
              "      <td>581588</td>\n",
              "      <td>2011-12-09 12:52:00</td>\n",
              "      <td>37.80</td>\n",
              "      <td>12594.0</td>\n",
              "      <td>Italy</td>\n",
              "      <td>Пятница</td>\n",
              "      <td>12</td>\n",
              "      <td>2011</td>\n",
              "    </tr>\n",
              "  </tbody>\n",
              "</table>\n",
              "</div>"
            ],
            "text/plain": [
              "      invoiceno          invoicedate   price  ...  weekday month  year\n",
              "18528    581584  2011-12-09 12:25:00  140.64  ...  Пятница    12  2011\n",
              "18529    581585  2011-12-09 12:31:00  329.05  ...  Пятница    12  2011\n",
              "18530    581586  2011-12-09 12:49:00  339.20  ...  Пятница    12  2011\n",
              "18531    581587  2011-12-09 12:50:00  249.45  ...  Пятница    12  2011\n",
              "18532    581588  2011-12-09 12:52:00   37.80  ...  Пятница    12  2011\n",
              "\n",
              "[5 rows x 8 columns]"
            ]
          },
          "metadata": {},
          "execution_count": 42
        }
      ]
    },
    {
      "cell_type": "code",
      "metadata": {
        "colab": {
          "base_uri": "https://localhost:8080/",
          "height": 144
        },
        "id": "j7mqvdp_aeFA",
        "outputId": "8eea928b-ee57-42b0-edce-68606e11c7c4"
      },
      "source": [
        "purchases.groupby(['year', 'month']).agg('sum').reset_index()[['price', 'month', 'year']].nlargest(columns='price', n = 3)"
      ],
      "execution_count": null,
      "outputs": [
        {
          "output_type": "execute_result",
          "data": {
            "text/html": [
              "<div>\n",
              "<style scoped>\n",
              "    .dataframe tbody tr th:only-of-type {\n",
              "        vertical-align: middle;\n",
              "    }\n",
              "\n",
              "    .dataframe tbody tr th {\n",
              "        vertical-align: top;\n",
              "    }\n",
              "\n",
              "    .dataframe thead th {\n",
              "        text-align: right;\n",
              "    }\n",
              "</style>\n",
              "<table border=\"1\" class=\"dataframe\">\n",
              "  <thead>\n",
              "    <tr style=\"text-align: right;\">\n",
              "      <th></th>\n",
              "      <th>price</th>\n",
              "      <th>month</th>\n",
              "      <th>year</th>\n",
              "    </tr>\n",
              "  </thead>\n",
              "  <tbody>\n",
              "    <tr>\n",
              "      <th>11</th>\n",
              "      <td>1161817.380</td>\n",
              "      <td>11</td>\n",
              "      <td>2011</td>\n",
              "    </tr>\n",
              "    <tr>\n",
              "      <th>10</th>\n",
              "      <td>1039318.790</td>\n",
              "      <td>10</td>\n",
              "      <td>2011</td>\n",
              "    </tr>\n",
              "    <tr>\n",
              "      <th>9</th>\n",
              "      <td>952838.382</td>\n",
              "      <td>9</td>\n",
              "      <td>2011</td>\n",
              "    </tr>\n",
              "  </tbody>\n",
              "</table>\n",
              "</div>"
            ],
            "text/plain": [
              "          price  month  year\n",
              "11  1161817.380     11  2011\n",
              "10  1039318.790     10  2011\n",
              "9    952838.382      9  2011"
            ]
          },
          "metadata": {},
          "execution_count": 34
        }
      ]
    },
    {
      "cell_type": "markdown",
      "metadata": {
        "id": "sU7-9E2nfhq4"
      },
      "source": [
        "## ⭐️⭐️⭐️ Вопрос 19\n",
        "\n",
        "Магазин продаёт товары покупателям из разных стран (Country). В какой стране был наибольший процентный рост месячных продаж, если сравнить март 2011 и сентябрь 2011? Сколько процентов составил этот рост? В расчёт брать только страны, в которых были ненулевые продажи в обоих этих месяцах. В ответе укажите через запятую название страны и целое число (процентный рост, округлённый до целого числа)."
      ]
    },
    {
      "cell_type": "markdown",
      "metadata": {
        "id": "UyC1iE0nfhq5"
      },
      "source": [
        "#### Решение"
      ]
    },
    {
      "cell_type": "code",
      "metadata": {
        "id": "BB0tn1a_fhq5"
      },
      "source": [
        "m_y = lambda x: str(x['month']) + '-' + str(x['year'])\n",
        "purchases['m - y'] = purchases.apply(m_y, axis=1)"
      ],
      "execution_count": null,
      "outputs": []
    },
    {
      "cell_type": "code",
      "metadata": {
        "id": "xYoCyBXERc8x"
      },
      "source": [
        "df_country = purchases[purchases['m - y'].isin(['3-2011', '9-2011'])].groupby(['country', 'm - y']).agg('sum')['price'].unstack('m - y').dropna()\n",
        "df_country = df_country[df_country['9-2011'] > df_country['3-2011']]\n",
        "df_country['percent'] = round(df_country['3-2011'] / df_country['9-2011'] * 100, 0)"
      ],
      "execution_count": null,
      "outputs": []
    },
    {
      "cell_type": "code",
      "metadata": {
        "colab": {
          "base_uri": "https://localhost:8080/",
          "height": 174
        },
        "id": "qk8U5iEmXGdG",
        "outputId": "162e383b-737e-4831-9794-633210e3505e"
      },
      "source": [
        "df_country.nlargest(columns='percent', n = 3)"
      ],
      "execution_count": null,
      "outputs": [
        {
          "output_type": "execute_result",
          "data": {
            "text/html": [
              "<div>\n",
              "<style scoped>\n",
              "    .dataframe tbody tr th:only-of-type {\n",
              "        vertical-align: middle;\n",
              "    }\n",
              "\n",
              "    .dataframe tbody tr th {\n",
              "        vertical-align: top;\n",
              "    }\n",
              "\n",
              "    .dataframe thead th {\n",
              "        text-align: right;\n",
              "    }\n",
              "</style>\n",
              "<table border=\"1\" class=\"dataframe\">\n",
              "  <thead>\n",
              "    <tr style=\"text-align: right;\">\n",
              "      <th>m - y</th>\n",
              "      <th>3-2011</th>\n",
              "      <th>9-2011</th>\n",
              "      <th>percent</th>\n",
              "    </tr>\n",
              "    <tr>\n",
              "      <th>country</th>\n",
              "      <th></th>\n",
              "      <th></th>\n",
              "      <th></th>\n",
              "    </tr>\n",
              "  </thead>\n",
              "  <tbody>\n",
              "    <tr>\n",
              "      <th>Denmark</th>\n",
              "      <td>3978.99</td>\n",
              "      <td>4570.16</td>\n",
              "      <td>87.0</td>\n",
              "    </tr>\n",
              "    <tr>\n",
              "      <th>Netherlands</th>\n",
              "      <td>22416.49</td>\n",
              "      <td>26937.26</td>\n",
              "      <td>83.0</td>\n",
              "    </tr>\n",
              "    <tr>\n",
              "      <th>Belgium</th>\n",
              "      <td>3351.98</td>\n",
              "      <td>4208.02</td>\n",
              "      <td>80.0</td>\n",
              "    </tr>\n",
              "  </tbody>\n",
              "</table>\n",
              "</div>"
            ],
            "text/plain": [
              "m - y          3-2011    9-2011  percent\n",
              "country                                 \n",
              "Denmark       3978.99   4570.16     87.0\n",
              "Netherlands  22416.49  26937.26     83.0\n",
              "Belgium       3351.98   4208.02     80.0"
            ]
          },
          "metadata": {},
          "execution_count": 92
        }
      ]
    },
    {
      "cell_type": "markdown",
      "metadata": {
        "id": "ZvCX0qZufhq7"
      },
      "source": [
        "## ⭐️⭐️⭐️ Вопрос 20\n",
        "\n",
        "Большинство клиентов все свои покупки делают из одной и той же страны. Выясним, однако, насколько велика доля путешественников среди клиентов. \n",
        "Сколько клиентов сделали покупки по крайней мере из двух разных стран? (ответ - целое число)"
      ]
    },
    {
      "cell_type": "markdown",
      "metadata": {
        "id": "2ujHtufofhq8"
      },
      "source": [
        "#### Решение"
      ]
    },
    {
      "cell_type": "code",
      "metadata": {
        "id": "2AhOPHJQfhq8",
        "colab": {
          "base_uri": "https://localhost:8080/"
        },
        "outputId": "bae03fa8-9e90-4a53-fc3f-77e379d0d95b"
      },
      "source": [
        "count_traveler = purchases[['customerid', 'country']].groupby('customerid').agg('nunique')\n",
        "count_traveler[count_traveler['country'] > 1].count()"
      ],
      "execution_count": null,
      "outputs": [
        {
          "output_type": "execute_result",
          "data": {
            "text/plain": [
              "country    8\n",
              "dtype: int64"
            ]
          },
          "metadata": {},
          "execution_count": 96
        }
      ]
    },
    {
      "cell_type": "markdown",
      "metadata": {
        "id": "pQrKQuPEfhrA"
      },
      "source": [
        "## ⭐️⭐️⭐️ Вопрос 21\n",
        "\n",
        "Мы запускаем в Италии рекомендательную систему \"С этим товаром часто покупают...\", и для этого хотим узнать, какие различные товары чаще всего встречаются в одной покупке из этой страны. Определите, какая пара различных товаров чаще всего встречается в различных покупках с ```Country=='Italy'```, и в скольких покупках это происходит. Одинаковые товары или нет, проверяйте по равенству поля Description. \n",
        "\n",
        "(ответ: название (Description) первого товара, название (Description) второго товара, целое число)"
      ]
    },
    {
      "cell_type": "markdown",
      "metadata": {
        "id": "fiV0QEWJfhrA"
      },
      "source": [
        "#### Решение"
      ]
    },
    {
      "cell_type": "code",
      "metadata": {
        "id": "HDa1ruzgfhrA"
      },
      "source": [
        "#сортируем массив по стране\n",
        "df_italy = df_cl[df_cl['country'] == 'Italy']\n",
        "#создаю список для списков комбинаций\n",
        "list_of_comb = []\n",
        "#цикл который пробегает по каждому УНИКАЛЬНОМУ инвойсу, затем создает комбинации\n",
        "#всех возможных комбинаций без повторений\n",
        "for invoce in df_italy['invoiceno'].unique():\n",
        "  for i, tovar in enumerate(df_italy[df_italy['invoiceno'] == invoce]['description']):\n",
        "    for j, tovar_2 in enumerate(df_italy[df_italy['invoiceno'] == invoce]['description']):\n",
        "      comb = []\n",
        "      #условие исключающее повторения товаров в одном инвойсе\n",
        "      if j > i:\n",
        "        comb.append(tovar)\n",
        "        comb.append(tovar_2)\n",
        "        #сортируем по алфавиту\n",
        "        comb.sort()\n",
        "        list_of_comb.append(comb)"
      ],
      "execution_count": null,
      "outputs": []
    },
    {
      "cell_type": "code",
      "metadata": {
        "colab": {
          "base_uri": "https://localhost:8080/",
          "height": 206
        },
        "id": "emdBnv6qGxKp",
        "outputId": "8fec14d9-4b58-4c9d-c6dd-126875b17337"
      },
      "source": [
        "df_comb = pd.DataFrame(list_of_comb, columns=['first', 'second'])\n",
        "df_comb['count'] = 0\n",
        "df_comb.head()"
      ],
      "execution_count": null,
      "outputs": [
        {
          "output_type": "execute_result",
          "data": {
            "text/html": [
              "<div>\n",
              "<style scoped>\n",
              "    .dataframe tbody tr th:only-of-type {\n",
              "        vertical-align: middle;\n",
              "    }\n",
              "\n",
              "    .dataframe tbody tr th {\n",
              "        vertical-align: top;\n",
              "    }\n",
              "\n",
              "    .dataframe thead th {\n",
              "        text-align: right;\n",
              "    }\n",
              "</style>\n",
              "<table border=\"1\" class=\"dataframe\">\n",
              "  <thead>\n",
              "    <tr style=\"text-align: right;\">\n",
              "      <th></th>\n",
              "      <th>first</th>\n",
              "      <th>second</th>\n",
              "      <th>count</th>\n",
              "    </tr>\n",
              "  </thead>\n",
              "  <tbody>\n",
              "    <tr>\n",
              "      <th>0</th>\n",
              "      <td>SCENTED VELVET LOUNGE CANDLE</td>\n",
              "      <td>T-LIGHT GLASS FLUTED ANTIQUE</td>\n",
              "      <td>0</td>\n",
              "    </tr>\n",
              "    <tr>\n",
              "      <th>1</th>\n",
              "      <td>BLUE FLOCK GLASS CANDLEHOLDER</td>\n",
              "      <td>T-LIGHT GLASS FLUTED ANTIQUE</td>\n",
              "      <td>0</td>\n",
              "    </tr>\n",
              "    <tr>\n",
              "      <th>2</th>\n",
              "      <td>SILVER GLITTER FLOWER VOTIVE HOLDER</td>\n",
              "      <td>T-LIGHT GLASS FLUTED ANTIQUE</td>\n",
              "      <td>0</td>\n",
              "    </tr>\n",
              "    <tr>\n",
              "      <th>3</th>\n",
              "      <td>6 CHOCOLATE LOVE HEART T-LIGHTS</td>\n",
              "      <td>T-LIGHT GLASS FLUTED ANTIQUE</td>\n",
              "      <td>0</td>\n",
              "    </tr>\n",
              "    <tr>\n",
              "      <th>4</th>\n",
              "      <td>SET OF 6 T-LIGHTS SANTA</td>\n",
              "      <td>T-LIGHT GLASS FLUTED ANTIQUE</td>\n",
              "      <td>0</td>\n",
              "    </tr>\n",
              "  </tbody>\n",
              "</table>\n",
              "</div>"
            ],
            "text/plain": [
              "                                 first                        second  count\n",
              "0         SCENTED VELVET LOUNGE CANDLE  T-LIGHT GLASS FLUTED ANTIQUE      0\n",
              "1        BLUE FLOCK GLASS CANDLEHOLDER  T-LIGHT GLASS FLUTED ANTIQUE      0\n",
              "2  SILVER GLITTER FLOWER VOTIVE HOLDER  T-LIGHT GLASS FLUTED ANTIQUE      0\n",
              "3      6 CHOCOLATE LOVE HEART T-LIGHTS  T-LIGHT GLASS FLUTED ANTIQUE      0\n",
              "4              SET OF 6 T-LIGHTS SANTA  T-LIGHT GLASS FLUTED ANTIQUE      0"
            ]
          },
          "metadata": {},
          "execution_count": 26
        }
      ]
    },
    {
      "cell_type": "code",
      "metadata": {
        "colab": {
          "base_uri": "https://localhost:8080/",
          "height": 206
        },
        "id": "EAAZ16SCG7MS",
        "outputId": "509c8431-48e9-4bec-817c-c0ff72510ed4"
      },
      "source": [
        "df_comb_b = df_comb.groupby(['first', 'second']).agg('count').reset_index()\n",
        "df_comb_b.nlargest(columns='count', n = 5)"
      ],
      "execution_count": null,
      "outputs": [
        {
          "output_type": "execute_result",
          "data": {
            "text/html": [
              "<div>\n",
              "<style scoped>\n",
              "    .dataframe tbody tr th:only-of-type {\n",
              "        vertical-align: middle;\n",
              "    }\n",
              "\n",
              "    .dataframe tbody tr th {\n",
              "        vertical-align: top;\n",
              "    }\n",
              "\n",
              "    .dataframe thead th {\n",
              "        text-align: right;\n",
              "    }\n",
              "</style>\n",
              "<table border=\"1\" class=\"dataframe\">\n",
              "  <thead>\n",
              "    <tr style=\"text-align: right;\">\n",
              "      <th></th>\n",
              "      <th>first</th>\n",
              "      <th>second</th>\n",
              "      <th>count</th>\n",
              "    </tr>\n",
              "  </thead>\n",
              "  <tbody>\n",
              "    <tr>\n",
              "      <th>13160</th>\n",
              "      <td>TOY TIDY PINK POLKADOT</td>\n",
              "      <td>TOY TIDY SPACEBOY</td>\n",
              "      <td>6</td>\n",
              "    </tr>\n",
              "    <tr>\n",
              "      <th>11035</th>\n",
              "      <td>PLASTERS IN TIN CIRCUS PARADE</td>\n",
              "      <td>PLASTERS IN TIN WOODLAND ANIMALS</td>\n",
              "      <td>5</td>\n",
              "    </tr>\n",
              "    <tr>\n",
              "      <th>2001</th>\n",
              "      <td>BREAD BIN DINER STYLE IVORY</td>\n",
              "      <td>DOORMAT UNION FLAG</td>\n",
              "      <td>4</td>\n",
              "    </tr>\n",
              "    <tr>\n",
              "      <th>2014</th>\n",
              "      <td>BREAD BIN DINER STYLE IVORY</td>\n",
              "      <td>JAM MAKING SET WITH JARS</td>\n",
              "      <td>4</td>\n",
              "    </tr>\n",
              "    <tr>\n",
              "      <th>2044</th>\n",
              "      <td>BREAD BIN DINER STYLE IVORY</td>\n",
              "      <td>SET OF 3 CAKE TINS PANTRY DESIGN</td>\n",
              "      <td>4</td>\n",
              "    </tr>\n",
              "  </tbody>\n",
              "</table>\n",
              "</div>"
            ],
            "text/plain": [
              "                               first                            second  count\n",
              "13160         TOY TIDY PINK POLKADOT                 TOY TIDY SPACEBOY      6\n",
              "11035  PLASTERS IN TIN CIRCUS PARADE  PLASTERS IN TIN WOODLAND ANIMALS      5\n",
              "2001     BREAD BIN DINER STYLE IVORY                DOORMAT UNION FLAG      4\n",
              "2014     BREAD BIN DINER STYLE IVORY          JAM MAKING SET WITH JARS      4\n",
              "2044     BREAD BIN DINER STYLE IVORY  SET OF 3 CAKE TINS PANTRY DESIGN      4"
            ]
          },
          "metadata": {},
          "execution_count": 27
        }
      ]
    }
  ]
}