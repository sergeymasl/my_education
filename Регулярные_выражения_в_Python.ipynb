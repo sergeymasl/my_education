{
  "nbformat": 4,
  "nbformat_minor": 0,
  "metadata": {
    "kernelspec": {
      "display_name": "Python 3",
      "language": "python",
      "name": "python3"
    },
    "language_info": {
      "codemirror_mode": {
        "name": "ipython",
        "version": 3
      },
      "file_extension": ".py",
      "mimetype": "text/x-python",
      "name": "python",
      "nbconvert_exporter": "python",
      "pygments_lexer": "ipython3",
      "version": "3.8.8"
    },
    "colab": {
      "name": "Регулярные выражения в Python.ipynb",
      "provenance": [],
      "include_colab_link": true
    }
  },
  "cells": [
    {
      "cell_type": "markdown",
      "metadata": {
        "id": "view-in-github",
        "colab_type": "text"
      },
      "source": [
        "<a href=\"https://colab.research.google.com/github/sergeymasl/my_education/blob/main/%D0%A0%D0%B5%D0%B3%D1%83%D0%BB%D1%8F%D1%80%D0%BD%D1%8B%D0%B5_%D0%B2%D1%8B%D1%80%D0%B0%D0%B6%D0%B5%D0%BD%D0%B8%D1%8F_%D0%B2_Python.ipynb\" target=\"_parent\"><img src=\"https://colab.research.google.com/assets/colab-badge.svg\" alt=\"Open In Colab\"/></a>"
      ]
    },
    {
      "cell_type": "markdown",
      "metadata": {
        "id": "6F7JVQIvYbXm"
      },
      "source": [
        "### 3. Регулярные выражения в Python\n",
        "\n",
        "Среди стандартных модулей Python существует библиотека для работы [с регулярными выражениями re](https://docs.python.org/3/library/re.html) \n",
        "(подробнее [тут](https://tproger.ru/translations/regular-expression-python/)\\)\n",
        "\n",
        "Простешая задача для регулярных выражений - разделение текста на отдельные слова."
      ]
    },
    {
      "cell_type": "code",
      "metadata": {
        "id": "6Mk00G_5YbXo",
        "outputId": "6bb50d6f-d89d-4935-d579-09100e5c6a49"
      },
      "source": [
        "import re\n",
        "import pandas as pd\n",
        "\n",
        "text_df = pd.read_csv(\"./data/content_description.csv\", sep='\\t')\n",
        "text_df.head()\n",
        "\n",
        "# строка для примера\n",
        "test_string = text_df.description.values[4]\n",
        "# шаблон регулярного выражения\n",
        "reg_expr = r'\\w+'\n",
        "# компилируем регулярное выражение\n",
        "reg_expr_compiled = re.compile(reg_expr)\n",
        "print(\"компилированное регулярное вырадение \", type(reg_expr_compiled), '\\n\\n')\n",
        "# применяем метод findall для поиска всех совпадений с шаблоном регулярного выражения в тексте \n",
        "res = reg_expr_compiled.findall(test_string) \n",
        "# результат\n",
        "print (res)"
      ],
      "execution_count": null,
      "outputs": [
        {
          "output_type": "stream",
          "text": [
            "компилированное регулярное вырадение  <class '_sre.SRE_Pattern'> \n",
            "\n",
            "\n",
            "['Леди', 'удача', 'авантюрная', 'романтическая', 'комедия', 'снятая', 'в', 'двадцатые', 'годы', 'ХХ', 'века', 'на', 'заре', 'звукового', 'кинематографа', 'Главную', 'роль', 'исполнила', 'обаятельная', 'Норма', 'Ширер', 'пятикратный', 'номинант', 'и', 'лауреат', 'премии', 'Оскар', 'за', 'фильм', 'Развод', 'Сюжет', 'и', 'посыл', 'картины', 'несмотря', 'на', 'ее', 'почтенный', 'возраст', 'нисколько', 'не', 'устарели', 'В', 'мелодраме', 'которую', 'вы', 'можете', 'посмотреть', 'онлайн', 'представлена', 'забавная', 'история', 'авантюристки', 'по', 'прозвищу', 'Ангельское', 'Личико', 'С', 'равным', 'успехом', 'показанные', 'события', 'могли', 'произойти', 'и', 'в', 'наше', 'время', 'как', 'вы', 'сами', 'можете', 'убедиться', 'люди', 'за', 'несколько', 'десятилетий', 'мало', 'изменились', 'в', 'глобальных', 'вещах', 'Прелестная', 'девушка', 'Долли', 'опасная', 'авантюристка', 'со', 'стажем', 'Она', 'зарабатывает', 'на', 'жизнь', 'шантажом', 'по', 'простой', 'и', 'многократно', 'отработанной', 'схеме', 'Долли', 'знакомится', 'с', 'богатым', 'мужчиной', 'приглашает', 'его', 'к', 'себе', 'на', 'квартиру', 'а', 'затем', 'начинает', 'требовать', 'деньги', 'за', 'соблюдение', 'молчания', 'В', 'результате', 'полицейских', 'происков', 'девушка', 'оказывается', 'под', 'арестом', 'однако', 'избегает', 'строгого', 'наказания', 'Выйдя', 'на', 'свободу', 'она', 'снимает', 'номер', 'в', 'отеле', 'где', 'знакомится', 'с', 'новой', 'жертвой', 'молодым', 'человеком', 'по', 'имени', 'Стив', 'Стив', 'утверждает', 'что', 'он', 'изобретатель', 'миллионер', 'однако', 'несколько', 'искажает', 'факты', 'На', 'самом', 'деле', 'герой', 'просто', 'ученый', 'создавший', 'вещь', 'способную', 'принести', 'миллионы']\n"
          ],
          "name": "stdout"
        }
      ]
    },
    {
      "cell_type": "markdown",
      "metadata": {
        "id": "_w4XpD66YbXo"
      },
      "source": [
        "В этом примере можно увидеть базовые приёмы применения библиотеки регулярных выражений в Python.\n",
        "\n",
        "* регулярное выражение - строка в кавычках (перед кавычками вспомогательный символ `r`)\n",
        "* строку перед использованием нужно скомпилировать в специальный объект [Regular expression object](https://docs.python.org/3/library/re.html#regular-expression-objects)\n",
        "* В шаблонах можно использовать `спецсимволы`\n",
        "\n",
        "Примеры спецсимволов:\n",
        "\n",
        "* `.` Любой символ\n",
        "* `\\w` Любая буква (то, что может быть частью слова), а также цифры и _ \n",
        "*  `\\W` Всё, что не входит в `\\w` \n",
        "*  `\\d` Любая цифра \n",
        "*  `\\D` Всё, что не входит в `\\d` \n",
        "* `\\b` Граница слова\n",
        "* `[…]` Символьный класс - любой из перечисленных символов \n",
        "\n",
        "Кроме спецсимволов можно использовать так называемые квантификаторы - указатели количества:\n",
        "\n",
        "* `+` Одно или более вхождений\n",
        "* `*` Ноль или более вхождений\n",
        "* `{m,n}` От m до n вхождений\n",
        "* `{n}` Ровно `n` вхождений\n",
        "* `\\s` Пробельный символ - например, табуляция\n",
        "* `^` Начало вхождения\n",
        "* `$` Конец вхождения\n",
        "* `()` Группирующие скобки. Позволяет искать подстроки\n",
        "\n",
        "Продемонстрируем простейшие примеры применения регулярных выражений."
      ]
    },
    {
      "cell_type": "code",
      "metadata": {
        "id": "zQplWXxAYbXp",
        "outputId": "8bc97715-e501-4463-8ae0-dd44bcdf98a5"
      },
      "source": [
        "sample_str = 'Мама mama@ya.ru мыла раму с мылом'\n",
        "\n",
        "result = re.findall(r'.', sample_str)\n",
        "print(result)"
      ],
      "execution_count": null,
      "outputs": [
        {
          "output_type": "stream",
          "text": [
            "['М', 'а', 'м', 'а', ' ', 'm', 'a', 'm', 'a', '@', 'y', 'a', '.', 'r', 'u', ' ', 'м', 'ы', 'л', 'а', ' ', 'р', 'а', 'м', 'у', ' ', 'с', ' ', 'м', 'ы', 'л', 'о', 'м']\n"
          ],
          "name": "stdout"
        }
      ]
    },
    {
      "cell_type": "markdown",
      "metadata": {
        "id": "P-iGmJUjYbXp"
      },
      "source": [
        "Усложним регулярку и извлечём все слова - идущие подряд непробельные символы (спецсимволы не в счёт)"
      ]
    },
    {
      "cell_type": "code",
      "metadata": {
        "id": "J9fDbRL_YbXp",
        "outputId": "f07148c8-798e-491b-ac73-c6c2053c70d0"
      },
      "source": [
        "result = re.findall(r'\\w*', sample_str)\n",
        "print(result)"
      ],
      "execution_count": null,
      "outputs": [
        {
          "output_type": "stream",
          "text": [
            "['Мама', '', 'mama', '', 'ya', '', 'ru', '', 'мыла', '', 'раму', '', 'с', '', 'мылом', '']\n"
          ],
          "name": "stdout"
        }
      ]
    },
    {
      "cell_type": "markdown",
      "metadata": {
        "id": "NofMJXrVYbXp"
      },
      "source": [
        "В выдаче есть пробелы - заменим `*` на `+`"
      ]
    },
    {
      "cell_type": "code",
      "metadata": {
        "id": "J_lv1Q6vYbXp",
        "outputId": "1ca9875d-f244-4653-da0f-206af651bf48"
      },
      "source": [
        "result = re.findall(r'\\w+', sample_str)\n",
        "print(result)"
      ],
      "execution_count": null,
      "outputs": [
        {
          "output_type": "stream",
          "text": [
            "['Мама', 'mama', 'ya', 'ru', 'мыла', 'раму', 'с', 'мылом']\n"
          ],
          "name": "stdout"
        }
      ]
    },
    {
      "cell_type": "markdown",
      "metadata": {
        "id": "c2Dq02Q7YbXp"
      },
      "source": [
        "Первое слово в тексте"
      ]
    },
    {
      "cell_type": "code",
      "metadata": {
        "id": "jdkeqZQDYbXq",
        "outputId": "e2422ef1-e533-41a2-e369-f6fc3caa7fb0"
      },
      "source": [
        "result = re.findall(r'^\\w+', sample_str)\n",
        "print(result)"
      ],
      "execution_count": null,
      "outputs": [
        {
          "output_type": "stream",
          "text": [
            "['Мама']\n"
          ],
          "name": "stdout"
        }
      ]
    },
    {
      "cell_type": "markdown",
      "metadata": {
        "id": "xeEi4vsEYbXq"
      },
      "source": [
        "Последнее слово в тексте"
      ]
    },
    {
      "cell_type": "code",
      "metadata": {
        "id": "-7ivJZJPYbXq",
        "outputId": "199643b9-8445-444c-ddd9-9e57b80348ea"
      },
      "source": [
        "result = re.findall(r'\\w+$', sample_str)\n",
        "print(result)"
      ],
      "execution_count": null,
      "outputs": [
        {
          "output_type": "stream",
          "text": [
            "['мылом']\n"
          ],
          "name": "stdout"
        }
      ]
    },
    {
      "cell_type": "markdown",
      "metadata": {
        "id": "aCEtSJu0YbXq"
      },
      "source": [
        "Вернуть все пары символов"
      ]
    },
    {
      "cell_type": "code",
      "metadata": {
        "id": "xzwieFjJYbXq",
        "outputId": "10309299-9b29-4404-af20-d458df1a4d4d"
      },
      "source": [
        "result = re.findall(r'\\w\\w', sample_str)\n",
        "print(result)"
      ],
      "execution_count": null,
      "outputs": [
        {
          "output_type": "stream",
          "text": [
            "['Ма', 'ма', 'ma', 'ma', 'ya', 'ru', 'мы', 'ла', 'ра', 'му', 'мы', 'ло']\n"
          ],
          "name": "stdout"
        }
      ]
    },
    {
      "cell_type": "markdown",
      "metadata": {
        "id": "p4yXvM_KYbXq"
      },
      "source": [
        "Вернуть все пары символов только в начале слова (включая пробелы)"
      ]
    },
    {
      "cell_type": "code",
      "metadata": {
        "id": "lvMFIGOxYbXq",
        "outputId": "79910c91-5131-4915-9013-fada33bcc113"
      },
      "source": [
        "result = re.findall(r'\\b\\w.', sample_str)\n",
        "print(result)"
      ],
      "execution_count": null,
      "outputs": [
        {
          "output_type": "stream",
          "text": [
            "['Ма', 'ma', 'ya', 'ru', 'мы', 'ра', 'с ', 'мы']\n"
          ],
          "name": "stdout"
        }
      ]
    },
    {
      "cell_type": "markdown",
      "metadata": {
        "id": "nQDslIIoYbXq"
      },
      "source": [
        "Вернуть список доменов электронной почты"
      ]
    },
    {
      "cell_type": "code",
      "metadata": {
        "id": "Mf3B2wDgYbXq",
        "outputId": "b2138a35-6435-4721-c0e6-1cb6f7d2075b"
      },
      "source": [
        "result = re.findall(r'@\\w+', sample_str)\n",
        "print(result)"
      ],
      "execution_count": null,
      "outputs": [
        {
          "output_type": "stream",
          "text": [
            "['@ya']\n"
          ],
          "name": "stdout"
        }
      ]
    },
    {
      "cell_type": "markdown",
      "metadata": {
        "id": "oCybmKczYbXr"
      },
      "source": [
        "Добавим в результат доменную зону(домен верхнего уровня)"
      ]
    },
    {
      "cell_type": "code",
      "metadata": {
        "id": "q5XmkTy3YbXr",
        "outputId": "2e7b0a84-ec24-4ffc-db36-b6df8cc7b946"
      },
      "source": [
        "result = re.findall(r'@\\w+.\\w+', sample_str)\n",
        "print(result)"
      ],
      "execution_count": null,
      "outputs": [
        {
          "output_type": "stream",
          "text": [
            "['@ya.ru']\n"
          ],
          "name": "stdout"
        }
      ]
    },
    {
      "cell_type": "markdown",
      "metadata": {
        "id": "PzTwDHhvYbXr"
      },
      "source": [
        "Второй вариант — вытащить только доменную зону, используя группировку"
      ]
    },
    {
      "cell_type": "code",
      "metadata": {
        "id": "_3x4QdVRYbXr",
        "outputId": "25ec4ec6-7c5b-44cc-f427-8bb313c63fef"
      },
      "source": [
        "result = re.findall(r'@\\w+.(\\w+)', sample_str)\n",
        "print(result)"
      ],
      "execution_count": null,
      "outputs": [
        {
          "output_type": "stream",
          "text": [
            "['ru']\n"
          ],
          "name": "stdout"
        }
      ]
    },
    {
      "cell_type": "markdown",
      "metadata": {
        "id": "ud5FBQW1YbXr"
      },
      "source": [
        "Наконец, извлечём email полностью"
      ]
    },
    {
      "cell_type": "code",
      "metadata": {
        "id": "U62jY-SdYbXr",
        "outputId": "1dae50a2-46b5-4f30-f9f0-3775cd653b97"
      },
      "source": [
        "result = re.findall(r'\\w+@\\w+.\\w+', sample_str)\n",
        "print(result)"
      ],
      "execution_count": null,
      "outputs": [
        {
          "output_type": "stream",
          "text": [
            "['mama@ya.ru']\n"
          ],
          "name": "stdout"
        }
      ]
    },
    {
      "cell_type": "markdown",
      "metadata": {
        "id": "Ilu-Gpk7YbXr"
      },
      "source": [
        "Разбив текст на отдельные слова, мы получаем список отдельных сущностей (т.н. токенов). Каждый токен можно обработать отдельно своей регуляркой. Например, проверить телефонный номер - номер должен быть длиной 10 знаков и начинаться с 8 или 7."
      ]
    },
    {
      "cell_type": "code",
      "metadata": {
        "id": "znVsvXSHYbXr",
        "outputId": "320b52f7-b541-4d2d-9023-340ccd99c0a6"
      },
      "source": [
        "tokens = ['7999999999', '999999-999', '99999x9999', '7996663132']\n",
        "\n",
        "for val in tokens:\n",
        "    if re.match(r'[7-8]{1}[0-9]{9}', val) and len(val) == 10:\n",
        "        print('phone number')\n",
        "    else:\n",
        "        print('no')"
      ],
      "execution_count": null,
      "outputs": [
        {
          "output_type": "stream",
          "text": [
            "phone number\n",
            "no\n",
            "no\n",
            "phone number\n"
          ],
          "name": "stdout"
        }
      ]
    },
    {
      "cell_type": "markdown",
      "metadata": {
        "id": "CR6yH9YfYbXr"
      },
      "source": [
        "Другой интересный кейс - вытаскивание из текста всех имён собственных. Именем собственным мы будем считать любой текст, заключённый внутри кавычек. Для этой задачи нам помогут группирующие скобки `()`."
      ]
    },
    {
      "cell_type": "code",
      "metadata": {
        "id": "gKG-F9XvYbXr",
        "outputId": "660e5a03-998b-4fea-ae80-753816a757cc"
      },
      "source": [
        "print(text_df.description.values[4])\n",
        "raw_text = text_df.description.values[4]\n",
        "\n",
        "print(\"\\n\\nПользуясь регулярными выражения, доcтанем из текста имена собственные (всё, что внутри кавычек):\\n\\n\")\n",
        "regular_expr = r'«(.*?)»'\n",
        "reg_expr_compiled = re.compile(regular_expr)\n",
        "# применяем выражение к тексту\n",
        "for g in reg_expr_compiled.findall(raw_text):\n",
        "    print(g)"
      ],
      "execution_count": null,
      "outputs": [
        {
          "output_type": "stream",
          "text": [
            "«Леди удача» – авантюрная романтическая комедия, снятая в двадцатые годы ХХ века, на заре звукового кинематографа. Главную роль исполнила обаятельная Норма Ширер, пятикратный номинант и лауреат премии «Оскар» за фильм «Развод». Сюжет и посыл картины, несмотря на ее почтенный возраст, нисколько не устарели. В мелодраме, которую вы можете посмотреть онлайн, представлена забавная история авантюристки по прозвищу Ангельское Личико. С равным успехом показанные события могли произойти и в наше время – как вы сами можете убедиться, люди за несколько десятилетий мало изменились в глобальных вещах.   Прелестная девушка Долли – опасная авантюристка со стажем. Она зарабатывает на жизнь шантажом по простой и многократно отработанной схеме. Долли знакомится с богатым мужчиной, приглашает его к себе на квартиру, а затем начинает требовать деньги за соблюдение молчания. В результате полицейских происков девушка оказывается под арестом, однако избегает строгого наказания. Выйдя на свободу, она снимает номер в отеле, где знакомится с новой жертвой – молодым человеком по имени Стив. Стив утверждает, что он изобретатель-миллионер, однако несколько искажает факты. На самом деле, герой – просто ученый, создавший вещь, способную принести миллионы.\n",
            "\n",
            "\n",
            "Пользуясь регулярными выражения, доcтанем из текста имена собственные (всё, что внутри кавычек):\n",
            "\n",
            "\n",
            "Леди удача\n",
            "Оскар\n",
            "Развод\n"
          ],
          "name": "stdout"
        }
      ]
    }
  ]
}